{
 "cells": [
  {
   "cell_type": "code",
   "execution_count": 1,
   "metadata": {},
   "outputs": [
    {
     "name": "stdout",
     "output_type": "stream",
     "text": [
      "Requirement already satisfied: biopandas in /Users/jamasba/micromamba/envs/cpdb/lib/python3.9/site-packages (0.4.1)\n",
      "Requirement already satisfied: numpy>=1.16.2 in /Users/jamasba/micromamba/envs/cpdb/lib/python3.9/site-packages (from biopandas) (1.23.5)\n",
      "Requirement already satisfied: pandas>=0.24.2 in /Users/jamasba/micromamba/envs/cpdb/lib/python3.9/site-packages (from biopandas) (2.0.2)\n",
      "Requirement already satisfied: setuptools in /Users/jamasba/micromamba/envs/cpdb/lib/python3.9/site-packages (from biopandas) (67.7.2)\n",
      "Requirement already satisfied: python-dateutil>=2.8.2 in /Users/jamasba/micromamba/envs/cpdb/lib/python3.9/site-packages (from pandas>=0.24.2->biopandas) (2.8.2)\n",
      "Requirement already satisfied: pytz>=2020.1 in /Users/jamasba/micromamba/envs/cpdb/lib/python3.9/site-packages (from pandas>=0.24.2->biopandas) (2023.3)\n",
      "Requirement already satisfied: tzdata>=2022.1 in /Users/jamasba/micromamba/envs/cpdb/lib/python3.9/site-packages (from pandas>=0.24.2->biopandas) (2023.3)\n",
      "Requirement already satisfied: six>=1.5 in /Users/jamasba/micromamba/envs/cpdb/lib/python3.9/site-packages (from python-dateutil>=2.8.2->pandas>=0.24.2->biopandas) (1.16.0)\n",
      "Requirement already satisfied: biotite in /Users/jamasba/micromamba/envs/cpdb/lib/python3.9/site-packages (0.37.0)\n",
      "Requirement already satisfied: requests>=2.12 in /Users/jamasba/micromamba/envs/cpdb/lib/python3.9/site-packages (from biotite) (2.31.0)\n",
      "Requirement already satisfied: numpy>=1.14.5 in /Users/jamasba/micromamba/envs/cpdb/lib/python3.9/site-packages (from biotite) (1.23.5)\n",
      "Requirement already satisfied: msgpack>=0.5.6 in /Users/jamasba/micromamba/envs/cpdb/lib/python3.9/site-packages (from biotite) (1.0.5)\n",
      "Requirement already satisfied: networkx>=2.0 in /Users/jamasba/micromamba/envs/cpdb/lib/python3.9/site-packages (from biotite) (3.1)\n",
      "Requirement already satisfied: charset-normalizer<4,>=2 in /Users/jamasba/micromamba/envs/cpdb/lib/python3.9/site-packages (from requests>=2.12->biotite) (3.1.0)\n",
      "Requirement already satisfied: idna<4,>=2.5 in /Users/jamasba/micromamba/envs/cpdb/lib/python3.9/site-packages (from requests>=2.12->biotite) (3.4)\n",
      "Requirement already satisfied: urllib3<3,>=1.21.1 in /Users/jamasba/micromamba/envs/cpdb/lib/python3.9/site-packages (from requests>=2.12->biotite) (2.0.3)\n",
      "Requirement already satisfied: certifi>=2017.4.17 in /Users/jamasba/micromamba/envs/cpdb/lib/python3.9/site-packages (from requests>=2.12->biotite) (2023.5.7)\n",
      "Requirement already satisfied: biopython in /Users/jamasba/micromamba/envs/cpdb/lib/python3.9/site-packages (1.79)\n",
      "Requirement already satisfied: numpy in /Users/jamasba/micromamba/envs/cpdb/lib/python3.9/site-packages (from biopython) (1.23.5)\n",
      "Requirement already satisfied: prody in /Users/jamasba/micromamba/envs/cpdb/lib/python3.9/site-packages (2.4.0)\n",
      "Requirement already satisfied: numpy<1.24,>=1.10 in /Users/jamasba/micromamba/envs/cpdb/lib/python3.9/site-packages (from prody) (1.23.5)\n",
      "Requirement already satisfied: biopython<=1.79 in /Users/jamasba/micromamba/envs/cpdb/lib/python3.9/site-packages (from prody) (1.79)\n",
      "Requirement already satisfied: pyparsing in /Users/jamasba/micromamba/envs/cpdb/lib/python3.9/site-packages (from prody) (3.0.9)\n",
      "Requirement already satisfied: scipy in /Users/jamasba/micromamba/envs/cpdb/lib/python3.9/site-packages (from prody) (1.10.1)\n",
      "Requirement already satisfied: setuptools in /Users/jamasba/micromamba/envs/cpdb/lib/python3.9/site-packages (from prody) (67.7.2)\n",
      "Requirement already satisfied: rdkit in /Users/jamasba/micromamba/envs/cpdb/lib/python3.9/site-packages (2023.3.1)\n",
      "Requirement already satisfied: numpy in /Users/jamasba/micromamba/envs/cpdb/lib/python3.9/site-packages (from rdkit) (1.23.5)\n",
      "Requirement already satisfied: Pillow in /Users/jamasba/micromamba/envs/cpdb/lib/python3.9/site-packages (from rdkit) (9.5.0)\n"
     ]
    }
   ],
   "source": [
    "!pip install biopandas\n",
    "!pip install biotite\n",
    "!pip install biopython\n",
    "!pip install prody\n",
    "!pip install rdkit\n",
    "#!pip install cpdb"
   ]
  },
  {
   "cell_type": "code",
   "execution_count": 2,
   "metadata": {},
   "outputs": [],
   "source": [
    "import os\n",
    "#from cpdb import parse, parse_pdb\n",
    "\n",
    "DATA_DIR = \"./tests/test_data\"\n",
    "PDB_FILES = os.listdir(DATA_DIR)"
   ]
  },
  {
   "attachments": {},
   "cell_type": "markdown",
   "metadata": {},
   "source": [
    "### CPDB"
   ]
  },
  {
   "cell_type": "code",
   "execution_count": 5,
   "metadata": {},
   "outputs": [],
   "source": [
    "from cpdb import parse"
   ]
  },
  {
   "cell_type": "code",
   "execution_count": 8,
   "metadata": {},
   "outputs": [
    {
     "name": "stdout",
     "output_type": "stream",
     "text": [
      "CPU times: user 6.6 s, sys: 267 ms, total: 6.86 s\n",
      "Wall time: 6.89 s\n"
     ]
    }
   ],
   "source": [
    "%%time\n",
    "for pdb in PDB_FILES * 5:\n",
    "    parse(DATA_DIR +\"/\"+pdb, df=False)"
   ]
  },
  {
   "cell_type": "code",
   "execution_count": 7,
   "metadata": {},
   "outputs": [
    {
     "name": "stdout",
     "output_type": "stream",
     "text": [
      "CPU times: user 7.58 s, sys: 398 ms, total: 7.97 s\n",
      "Wall time: 8.02 s\n"
     ]
    }
   ],
   "source": [
    "%%time\n",
    "for pdb in PDB_FILES * 5:\n",
    "    parse(DATA_DIR +\"/\"+pdb, df=True)"
   ]
  },
  {
   "attachments": {},
   "cell_type": "markdown",
   "metadata": {},
   "source": [
    "### BioPandas"
   ]
  },
  {
   "cell_type": "code",
   "execution_count": 9,
   "metadata": {},
   "outputs": [],
   "source": [
    "from biopandas.pdb import PandasPdb\n",
    "ppdb = PandasPdb()"
   ]
  },
  {
   "cell_type": "code",
   "execution_count": 10,
   "metadata": {},
   "outputs": [
    {
     "name": "stdout",
     "output_type": "stream",
     "text": [
      "CPU times: user 34.6 s, sys: 1.53 s, total: 36.1 s\n",
      "Wall time: 36.3 s\n"
     ]
    }
   ],
   "source": [
    "%%time\n",
    "for pdb in PDB_FILES * 5:\n",
    "    ppdb.read_pdb(DATA_DIR +\"/\"+pdb)"
   ]
  },
  {
   "attachments": {},
   "cell_type": "markdown",
   "metadata": {},
   "source": [
    "### Prody"
   ]
  },
  {
   "cell_type": "code",
   "execution_count": 11,
   "metadata": {},
   "outputs": [],
   "source": [
    "from prody import parsePDB"
   ]
  },
  {
   "cell_type": "code",
   "execution_count": 12,
   "metadata": {},
   "outputs": [
    {
     "name": "stderr",
     "output_type": "stream",
     "text": [
      "@> 327 atoms and 1 coordinate set(s) were parsed in 0.00s.\n",
      "@> 97872 atoms and 10 coordinate set(s) were parsed in 1.35s.\n",
      "@> 1721 atoms and 1 coordinate set(s) were parsed in 0.01s.\n",
      "@> 327 atoms and 1 coordinate set(s) were parsed in 0.00s.\n",
      "@> 97872 atoms and 10 coordinate set(s) were parsed in 1.34s.\n",
      "@> 1721 atoms and 1 coordinate set(s) were parsed in 0.01s.\n",
      "@> 327 atoms and 1 coordinate set(s) were parsed in 0.00s.\n",
      "@> 97872 atoms and 10 coordinate set(s) were parsed in 1.38s.\n",
      "@> 1721 atoms and 1 coordinate set(s) were parsed in 0.01s.\n",
      "@> 327 atoms and 1 coordinate set(s) were parsed in 0.00s.\n",
      "@> 97872 atoms and 10 coordinate set(s) were parsed in 1.35s.\n",
      "@> 1721 atoms and 1 coordinate set(s) were parsed in 0.01s.\n",
      "@> 327 atoms and 1 coordinate set(s) were parsed in 0.00s.\n",
      "@> 97872 atoms and 10 coordinate set(s) were parsed in 1.32s.\n",
      "@> 1721 atoms and 1 coordinate set(s) were parsed in 0.01s.\n"
     ]
    },
    {
     "name": "stdout",
     "output_type": "stream",
     "text": [
      "CPU times: user 6.54 s, sys: 284 ms, total: 6.83 s\n",
      "Wall time: 6.88 s\n"
     ]
    }
   ],
   "source": [
    "%%time\n",
    "for pdb in PDB_FILES * 5:\n",
    "    parsePDB(DATA_DIR +\"/\"+pdb)"
   ]
  },
  {
   "attachments": {},
   "cell_type": "markdown",
   "metadata": {},
   "source": [
    "### BioTite"
   ]
  },
  {
   "cell_type": "code",
   "execution_count": 13,
   "metadata": {},
   "outputs": [],
   "source": [
    "from biotite.structure.io.pdb import PDBFile\n",
    "btpdb = PDBFile()"
   ]
  },
  {
   "cell_type": "code",
   "execution_count": 14,
   "metadata": {},
   "outputs": [
    {
     "name": "stdout",
     "output_type": "stream",
     "text": [
      "CPU times: user 9.74 s, sys: 294 ms, total: 10 s\n",
      "Wall time: 10.1 s\n"
     ]
    }
   ],
   "source": [
    "%%time\n",
    "for pdb in PDB_FILES * 5:\n",
    "    PDBFile.read(DATA_DIR +\"/\"+pdb).get_structure()"
   ]
  },
  {
   "attachments": {},
   "cell_type": "markdown",
   "metadata": {},
   "source": [
    "### BioPython"
   ]
  },
  {
   "cell_type": "code",
   "execution_count": 16,
   "metadata": {},
   "outputs": [],
   "source": [
    "import warnings\n",
    "warnings.filterwarnings(\"ignore\")\n",
    "\n",
    "from Bio.PDB import PDBParser\n",
    "bpparser = PDBParser()"
   ]
  },
  {
   "cell_type": "code",
   "execution_count": 17,
   "metadata": {},
   "outputs": [
    {
     "name": "stdout",
     "output_type": "stream",
     "text": [
      "CPU times: user 44.4 s, sys: 1.39 s, total: 45.8 s\n",
      "Wall time: 46.1 s\n"
     ]
    }
   ],
   "source": [
    "%%time\n",
    "for pdb in PDB_FILES * 5:\n",
    "    bpparser.get_structure(id=None, file=DATA_DIR +\"/\"+pdb)"
   ]
  },
  {
   "attachments": {},
   "cell_type": "markdown",
   "metadata": {},
   "source": [
    "### RDKit"
   ]
  },
  {
   "cell_type": "code",
   "execution_count": 18,
   "metadata": {},
   "outputs": [],
   "source": [
    "from rdkit import Chem"
   ]
  },
  {
   "cell_type": "code",
   "execution_count": 19,
   "metadata": {},
   "outputs": [
    {
     "name": "stdout",
     "output_type": "stream",
     "text": [
      "CPU times: user 8.56 s, sys: 272 ms, total: 8.83 s\n",
      "Wall time: 8.86 s\n"
     ]
    }
   ],
   "source": [
    "%%time\n",
    "for pdb in PDB_FILES * 5:\n",
    "    Chem.MolFromPDBFile(DATA_DIR +\"/\"+pdb)"
   ]
  },
  {
   "attachments": {},
   "cell_type": "markdown",
   "metadata": {},
   "source": [
    "### Profiling"
   ]
  },
  {
   "cell_type": "code",
   "execution_count": 2,
   "metadata": {},
   "outputs": [],
   "source": [
    "import cProfile"
   ]
  },
  {
   "cell_type": "code",
   "execution_count": 3,
   "metadata": {},
   "outputs": [],
   "source": [
    "def main():\n",
    "    parse(DATA_DIR +\"/\"+PDB_FILES[0])"
   ]
  },
  {
   "cell_type": "code",
   "execution_count": 4,
   "metadata": {},
   "outputs": [],
   "source": [
    "cProfile.run('main()', 'cython_pdb_profile_output')"
   ]
  },
  {
   "cell_type": "code",
   "execution_count": null,
   "metadata": {},
   "outputs": [],
   "source": []
  }
 ],
 "metadata": {
  "kernelspec": {
   "display_name": "Python 3",
   "language": "python",
   "name": "python3"
  },
  "language_info": {
   "codemirror_mode": {
    "name": "ipython",
    "version": 3
   },
   "file_extension": ".py",
   "mimetype": "text/x-python",
   "name": "python",
   "nbconvert_exporter": "python",
   "pygments_lexer": "ipython3",
   "version": "3.9.16"
  },
  "orig_nbformat": 4
 },
 "nbformat": 4,
 "nbformat_minor": 2
}
